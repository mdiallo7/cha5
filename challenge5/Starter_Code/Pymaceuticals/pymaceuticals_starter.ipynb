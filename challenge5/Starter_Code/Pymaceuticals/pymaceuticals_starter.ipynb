{
 "cells": [
  {
   "attachments": {},
   "cell_type": "markdown",
   "metadata": {},
   "source": [
    "# Pymaceuticals Inc.\n",
    "---\n",
    "\n",
    "### Analysis\n",
    "\n",
    "- Add your analysis here.\n",
    " "
   ]
  },
  {
   "cell_type": "code",
   "execution_count": 58,
   "metadata": {},
   "outputs": [
    {
     "data": {
      "text/html": [
       "<div>\n",
       "<style scoped>\n",
       "    .dataframe tbody tr th:only-of-type {\n",
       "        vertical-align: middle;\n",
       "    }\n",
       "\n",
       "    .dataframe tbody tr th {\n",
       "        vertical-align: top;\n",
       "    }\n",
       "\n",
       "    .dataframe thead th {\n",
       "        text-align: right;\n",
       "    }\n",
       "</style>\n",
       "<table border=\"1\" class=\"dataframe\">\n",
       "  <thead>\n",
       "    <tr style=\"text-align: right;\">\n",
       "      <th></th>\n",
       "      <th>Mouse ID</th>\n",
       "      <th>Timepoint</th>\n",
       "      <th>Tumor Volume (mm3)</th>\n",
       "      <th>Metastatic Sites</th>\n",
       "      <th>Drug Regimen</th>\n",
       "      <th>Sex</th>\n",
       "      <th>Age_months</th>\n",
       "      <th>Weight (g)</th>\n",
       "    </tr>\n",
       "  </thead>\n",
       "  <tbody>\n",
       "    <tr>\n",
       "      <th>0</th>\n",
       "      <td>b128</td>\n",
       "      <td>0</td>\n",
       "      <td>45.0</td>\n",
       "      <td>0</td>\n",
       "      <td>Capomulin</td>\n",
       "      <td>Female</td>\n",
       "      <td>9</td>\n",
       "      <td>22</td>\n",
       "    </tr>\n",
       "    <tr>\n",
       "      <th>1</th>\n",
       "      <td>f932</td>\n",
       "      <td>0</td>\n",
       "      <td>45.0</td>\n",
       "      <td>0</td>\n",
       "      <td>Ketapril</td>\n",
       "      <td>Male</td>\n",
       "      <td>15</td>\n",
       "      <td>29</td>\n",
       "    </tr>\n",
       "    <tr>\n",
       "      <th>2</th>\n",
       "      <td>g107</td>\n",
       "      <td>0</td>\n",
       "      <td>45.0</td>\n",
       "      <td>0</td>\n",
       "      <td>Ketapril</td>\n",
       "      <td>Female</td>\n",
       "      <td>2</td>\n",
       "      <td>29</td>\n",
       "    </tr>\n",
       "    <tr>\n",
       "      <th>3</th>\n",
       "      <td>a457</td>\n",
       "      <td>0</td>\n",
       "      <td>45.0</td>\n",
       "      <td>0</td>\n",
       "      <td>Ketapril</td>\n",
       "      <td>Female</td>\n",
       "      <td>11</td>\n",
       "      <td>30</td>\n",
       "    </tr>\n",
       "    <tr>\n",
       "      <th>4</th>\n",
       "      <td>c819</td>\n",
       "      <td>0</td>\n",
       "      <td>45.0</td>\n",
       "      <td>0</td>\n",
       "      <td>Ketapril</td>\n",
       "      <td>Male</td>\n",
       "      <td>21</td>\n",
       "      <td>25</td>\n",
       "    </tr>\n",
       "  </tbody>\n",
       "</table>\n",
       "</div>"
      ],
      "text/plain": [
       "  Mouse ID  Timepoint  Tumor Volume (mm3)  Metastatic Sites Drug Regimen  \\\n",
       "0     b128          0                45.0                 0    Capomulin   \n",
       "1     f932          0                45.0                 0     Ketapril   \n",
       "2     g107          0                45.0                 0     Ketapril   \n",
       "3     a457          0                45.0                 0     Ketapril   \n",
       "4     c819          0                45.0                 0     Ketapril   \n",
       "\n",
       "      Sex  Age_months  Weight (g)  \n",
       "0  Female           9          22  \n",
       "1    Male          15          29  \n",
       "2  Female           2          29  \n",
       "3  Female          11          30  \n",
       "4    Male          21          25  "
      ]
     },
     "execution_count": 58,
     "metadata": {},
     "output_type": "execute_result"
    }
   ],
   "source": [
    "# Dependencies and Setup\n",
    "import matplotlib.pyplot as plt\n",
    "import pandas as pd\n",
    "import scipy.stats as st\n",
    "\n",
    "# Study data files\n",
    "mouse_metadata_path = \"data/Mouse_metadata.csv\"\n",
    "study_results_path = \"data/Study_results.csv\"\n",
    "\n",
    "# Read the mouse data and the study results\n",
    "mouse_metadata = pd.read_csv(mouse_metadata_path)\n",
    "study_results = pd.read_csv(study_results_path)\n",
    "\n",
    "# Combine the data into a single DataFrame\n",
    "combined_mouse_df = pd.merge(study_results, mouse_metadata,\n",
    "                             how=\"left\",  on='Mouse ID')\n",
    "\n",
    "# Display the data table for preview\n",
    "combined_mouse_df.head()"
   ]
  },
  {
   "cell_type": "code",
   "execution_count": 59,
   "metadata": {},
   "outputs": [
    {
     "name": "stdout",
     "output_type": "stream",
     "text": [
      "249\n"
     ]
    }
   ],
   "source": [
    "# Checking the number of mice.\n",
    "mouse_count = mouse_metadata[\"Mouse ID\"].count()\n",
    "print(mouse_count)"
   ]
  },
  {
   "cell_type": "code",
   "execution_count": 60,
   "metadata": {},
   "outputs": [
    {
     "name": "stdout",
     "output_type": "stream",
     "text": [
      "['g989']\n"
     ]
    }
   ],
   "source": [
    "# Our data should be uniquely identified by Mouse ID and Timepoint\n",
    "# Get the duplicate mice by ID number that shows up for Mouse ID and Timepoint. \n",
    "duplicate_mouse_df = combined_mouse_df.loc[combined_mouse_df.duplicated(subset=['Mouse ID', 'Timepoint']),'Mouse ID'].unique()\n",
    "print(duplicate_mouse_df)"
   ]
  },
  {
   "cell_type": "code",
   "execution_count": 61,
   "metadata": {},
   "outputs": [
    {
     "data": {
      "text/html": [
       "<div>\n",
       "<style scoped>\n",
       "    .dataframe tbody tr th:only-of-type {\n",
       "        vertical-align: middle;\n",
       "    }\n",
       "\n",
       "    .dataframe tbody tr th {\n",
       "        vertical-align: top;\n",
       "    }\n",
       "\n",
       "    .dataframe thead th {\n",
       "        text-align: right;\n",
       "    }\n",
       "</style>\n",
       "<table border=\"1\" class=\"dataframe\">\n",
       "  <thead>\n",
       "    <tr style=\"text-align: right;\">\n",
       "      <th></th>\n",
       "      <th>Mouse ID</th>\n",
       "      <th>Timepoint</th>\n",
       "      <th>Tumor Volume (mm3)</th>\n",
       "      <th>Metastatic Sites</th>\n",
       "      <th>Drug Regimen</th>\n",
       "      <th>Sex</th>\n",
       "      <th>Age_months</th>\n",
       "      <th>Weight (g)</th>\n",
       "    </tr>\n",
       "  </thead>\n",
       "  <tbody>\n",
       "    <tr>\n",
       "      <th>107</th>\n",
       "      <td>g989</td>\n",
       "      <td>0</td>\n",
       "      <td>45.000000</td>\n",
       "      <td>0</td>\n",
       "      <td>Propriva</td>\n",
       "      <td>Female</td>\n",
       "      <td>21</td>\n",
       "      <td>26</td>\n",
       "    </tr>\n",
       "    <tr>\n",
       "      <th>137</th>\n",
       "      <td>g989</td>\n",
       "      <td>0</td>\n",
       "      <td>45.000000</td>\n",
       "      <td>0</td>\n",
       "      <td>Propriva</td>\n",
       "      <td>Female</td>\n",
       "      <td>21</td>\n",
       "      <td>26</td>\n",
       "    </tr>\n",
       "    <tr>\n",
       "      <th>329</th>\n",
       "      <td>g989</td>\n",
       "      <td>5</td>\n",
       "      <td>48.786801</td>\n",
       "      <td>0</td>\n",
       "      <td>Propriva</td>\n",
       "      <td>Female</td>\n",
       "      <td>21</td>\n",
       "      <td>26</td>\n",
       "    </tr>\n",
       "    <tr>\n",
       "      <th>360</th>\n",
       "      <td>g989</td>\n",
       "      <td>5</td>\n",
       "      <td>47.570392</td>\n",
       "      <td>0</td>\n",
       "      <td>Propriva</td>\n",
       "      <td>Female</td>\n",
       "      <td>21</td>\n",
       "      <td>26</td>\n",
       "    </tr>\n",
       "    <tr>\n",
       "      <th>620</th>\n",
       "      <td>g989</td>\n",
       "      <td>10</td>\n",
       "      <td>51.745156</td>\n",
       "      <td>0</td>\n",
       "      <td>Propriva</td>\n",
       "      <td>Female</td>\n",
       "      <td>21</td>\n",
       "      <td>26</td>\n",
       "    </tr>\n",
       "  </tbody>\n",
       "</table>\n",
       "</div>"
      ],
      "text/plain": [
       "    Mouse ID  Timepoint  Tumor Volume (mm3)  Metastatic Sites Drug Regimen  \\\n",
       "107     g989          0           45.000000                 0     Propriva   \n",
       "137     g989          0           45.000000                 0     Propriva   \n",
       "329     g989          5           48.786801                 0     Propriva   \n",
       "360     g989          5           47.570392                 0     Propriva   \n",
       "620     g989         10           51.745156                 0     Propriva   \n",
       "\n",
       "        Sex  Age_months  Weight (g)  \n",
       "107  Female          21          26  \n",
       "137  Female          21          26  \n",
       "329  Female          21          26  \n",
       "360  Female          21          26  \n",
       "620  Female          21          26  "
      ]
     },
     "execution_count": 61,
     "metadata": {},
     "output_type": "execute_result"
    }
   ],
   "source": [
    "# Optional: Get all the data for the duplicate mouse ID. \n",
    "combined_mouse_df_clean =  combined_mouse_df[combined_mouse_df['Mouse ID'].isin(duplicate_mouse_df)==True]\n",
    "combined_mouse_df_clean.head()"
   ]
  },
  {
   "cell_type": "code",
   "execution_count": 62,
   "metadata": {},
   "outputs": [
    {
     "data": {
      "text/html": [
       "<div>\n",
       "<style scoped>\n",
       "    .dataframe tbody tr th:only-of-type {\n",
       "        vertical-align: middle;\n",
       "    }\n",
       "\n",
       "    .dataframe tbody tr th {\n",
       "        vertical-align: top;\n",
       "    }\n",
       "\n",
       "    .dataframe thead th {\n",
       "        text-align: right;\n",
       "    }\n",
       "</style>\n",
       "<table border=\"1\" class=\"dataframe\">\n",
       "  <thead>\n",
       "    <tr style=\"text-align: right;\">\n",
       "      <th></th>\n",
       "      <th>Mouse ID</th>\n",
       "      <th>Timepoint</th>\n",
       "      <th>Tumor Volume (mm3)</th>\n",
       "      <th>Metastatic Sites</th>\n",
       "      <th>Drug Regimen</th>\n",
       "      <th>Sex</th>\n",
       "      <th>Age_months</th>\n",
       "      <th>Weight (g)</th>\n",
       "    </tr>\n",
       "  </thead>\n",
       "  <tbody>\n",
       "    <tr>\n",
       "      <th>0</th>\n",
       "      <td>b128</td>\n",
       "      <td>0</td>\n",
       "      <td>45.0</td>\n",
       "      <td>0</td>\n",
       "      <td>Capomulin</td>\n",
       "      <td>Female</td>\n",
       "      <td>9</td>\n",
       "      <td>22</td>\n",
       "    </tr>\n",
       "    <tr>\n",
       "      <th>1</th>\n",
       "      <td>f932</td>\n",
       "      <td>0</td>\n",
       "      <td>45.0</td>\n",
       "      <td>0</td>\n",
       "      <td>Ketapril</td>\n",
       "      <td>Male</td>\n",
       "      <td>15</td>\n",
       "      <td>29</td>\n",
       "    </tr>\n",
       "    <tr>\n",
       "      <th>2</th>\n",
       "      <td>g107</td>\n",
       "      <td>0</td>\n",
       "      <td>45.0</td>\n",
       "      <td>0</td>\n",
       "      <td>Ketapril</td>\n",
       "      <td>Female</td>\n",
       "      <td>2</td>\n",
       "      <td>29</td>\n",
       "    </tr>\n",
       "    <tr>\n",
       "      <th>3</th>\n",
       "      <td>a457</td>\n",
       "      <td>0</td>\n",
       "      <td>45.0</td>\n",
       "      <td>0</td>\n",
       "      <td>Ketapril</td>\n",
       "      <td>Female</td>\n",
       "      <td>11</td>\n",
       "      <td>30</td>\n",
       "    </tr>\n",
       "    <tr>\n",
       "      <th>4</th>\n",
       "      <td>c819</td>\n",
       "      <td>0</td>\n",
       "      <td>45.0</td>\n",
       "      <td>0</td>\n",
       "      <td>Ketapril</td>\n",
       "      <td>Male</td>\n",
       "      <td>21</td>\n",
       "      <td>25</td>\n",
       "    </tr>\n",
       "  </tbody>\n",
       "</table>\n",
       "</div>"
      ],
      "text/plain": [
       "  Mouse ID  Timepoint  Tumor Volume (mm3)  Metastatic Sites Drug Regimen  \\\n",
       "0     b128          0                45.0                 0    Capomulin   \n",
       "1     f932          0                45.0                 0     Ketapril   \n",
       "2     g107          0                45.0                 0     Ketapril   \n",
       "3     a457          0                45.0                 0     Ketapril   \n",
       "4     c819          0                45.0                 0     Ketapril   \n",
       "\n",
       "      Sex  Age_months  Weight (g)  \n",
       "0  Female           9          22  \n",
       "1    Male          15          29  \n",
       "2  Female           2          29  \n",
       "3  Female          11          30  \n",
       "4    Male          21          25  "
      ]
     },
     "execution_count": 62,
     "metadata": {},
     "output_type": "execute_result"
    }
   ],
   "source": [
    "# Create a clean DataFrame by dropping the duplicate mouse by its ID.\n",
    "combined_mouse_df_clean =  combined_mouse_df[combined_mouse_df['Mouse ID'].isin(duplicate_mouse_df)==False]\n",
    "\n",
    "combined_mouse_df_clean.head()\n"
   ]
  },
  {
   "cell_type": "markdown",
   "metadata": {},
   "source": [
    "len(combined_mouse_df_clean[\"Mouse ID\"].unique())"
   ]
  },
  {
   "cell_type": "code",
   "execution_count": 63,
   "metadata": {},
   "outputs": [
    {
     "data": {
      "text/plain": [
       "248"
      ]
     },
     "execution_count": 63,
     "metadata": {},
     "output_type": "execute_result"
    }
   ],
   "source": [
    "# Checking the number of mice in the clean DataFrame.\n",
    "len(combined_mouse_df_clean[\"Mouse ID\"].unique())"
   ]
  },
  {
   "cell_type": "markdown",
   "metadata": {},
   "source": [
    "## Summary Statistics"
   ]
  },
  {
   "cell_type": "code",
   "execution_count": 64,
   "metadata": {},
   "outputs": [
    {
     "data": {
      "text/html": [
       "<div>\n",
       "<style scoped>\n",
       "    .dataframe tbody tr th:only-of-type {\n",
       "        vertical-align: middle;\n",
       "    }\n",
       "\n",
       "    .dataframe tbody tr th {\n",
       "        vertical-align: top;\n",
       "    }\n",
       "\n",
       "    .dataframe thead th {\n",
       "        text-align: right;\n",
       "    }\n",
       "</style>\n",
       "<table border=\"1\" class=\"dataframe\">\n",
       "  <thead>\n",
       "    <tr style=\"text-align: right;\">\n",
       "      <th></th>\n",
       "      <th>Mean Tumor Volume</th>\n",
       "      <th>Median Tumor Volume</th>\n",
       "      <th>Tumor Volume Variance</th>\n",
       "      <th>Tumor Volume Std. Dev.</th>\n",
       "      <th>Tumor Volume Std. Err.</th>\n",
       "    </tr>\n",
       "    <tr>\n",
       "      <th>Drug Regimen</th>\n",
       "      <th></th>\n",
       "      <th></th>\n",
       "      <th></th>\n",
       "      <th></th>\n",
       "      <th></th>\n",
       "    </tr>\n",
       "  </thead>\n",
       "  <tbody>\n",
       "    <tr>\n",
       "      <th>Capomulin</th>\n",
       "      <td>40.675741</td>\n",
       "      <td>41.557809</td>\n",
       "      <td>24.947764</td>\n",
       "      <td>4.994774</td>\n",
       "      <td>0.329346</td>\n",
       "    </tr>\n",
       "    <tr>\n",
       "      <th>Ceftamin</th>\n",
       "      <td>52.591172</td>\n",
       "      <td>51.776157</td>\n",
       "      <td>39.290177</td>\n",
       "      <td>6.268188</td>\n",
       "      <td>0.469821</td>\n",
       "    </tr>\n",
       "    <tr>\n",
       "      <th>Infubinol</th>\n",
       "      <td>52.884795</td>\n",
       "      <td>51.820584</td>\n",
       "      <td>43.128684</td>\n",
       "      <td>6.567243</td>\n",
       "      <td>0.492236</td>\n",
       "    </tr>\n",
       "    <tr>\n",
       "      <th>Ketapril</th>\n",
       "      <td>55.235638</td>\n",
       "      <td>53.698743</td>\n",
       "      <td>68.553577</td>\n",
       "      <td>8.279709</td>\n",
       "      <td>0.603860</td>\n",
       "    </tr>\n",
       "    <tr>\n",
       "      <th>Naftisol</th>\n",
       "      <td>54.331565</td>\n",
       "      <td>52.509285</td>\n",
       "      <td>66.173479</td>\n",
       "      <td>8.134708</td>\n",
       "      <td>0.596466</td>\n",
       "    </tr>\n",
       "    <tr>\n",
       "      <th>Placebo</th>\n",
       "      <td>54.033581</td>\n",
       "      <td>52.288934</td>\n",
       "      <td>61.168083</td>\n",
       "      <td>7.821003</td>\n",
       "      <td>0.581331</td>\n",
       "    </tr>\n",
       "    <tr>\n",
       "      <th>Propriva</th>\n",
       "      <td>52.320930</td>\n",
       "      <td>50.446266</td>\n",
       "      <td>43.852013</td>\n",
       "      <td>6.622085</td>\n",
       "      <td>0.544332</td>\n",
       "    </tr>\n",
       "    <tr>\n",
       "      <th>Ramicane</th>\n",
       "      <td>40.216745</td>\n",
       "      <td>40.673236</td>\n",
       "      <td>23.486704</td>\n",
       "      <td>4.846308</td>\n",
       "      <td>0.320955</td>\n",
       "    </tr>\n",
       "    <tr>\n",
       "      <th>Stelasyn</th>\n",
       "      <td>54.233149</td>\n",
       "      <td>52.431737</td>\n",
       "      <td>59.450562</td>\n",
       "      <td>7.710419</td>\n",
       "      <td>0.573111</td>\n",
       "    </tr>\n",
       "    <tr>\n",
       "      <th>Zoniferol</th>\n",
       "      <td>53.236507</td>\n",
       "      <td>51.818479</td>\n",
       "      <td>48.533355</td>\n",
       "      <td>6.966589</td>\n",
       "      <td>0.516398</td>\n",
       "    </tr>\n",
       "  </tbody>\n",
       "</table>\n",
       "</div>"
      ],
      "text/plain": [
       "              Mean Tumor Volume  Median Tumor Volume  Tumor Volume Variance  \\\n",
       "Drug Regimen                                                                  \n",
       "Capomulin             40.675741            41.557809              24.947764   \n",
       "Ceftamin              52.591172            51.776157              39.290177   \n",
       "Infubinol             52.884795            51.820584              43.128684   \n",
       "Ketapril              55.235638            53.698743              68.553577   \n",
       "Naftisol              54.331565            52.509285              66.173479   \n",
       "Placebo               54.033581            52.288934              61.168083   \n",
       "Propriva              52.320930            50.446266              43.852013   \n",
       "Ramicane              40.216745            40.673236              23.486704   \n",
       "Stelasyn              54.233149            52.431737              59.450562   \n",
       "Zoniferol             53.236507            51.818479              48.533355   \n",
       "\n",
       "              Tumor Volume Std. Dev.  Tumor Volume Std. Err.  \n",
       "Drug Regimen                                                  \n",
       "Capomulin                   4.994774                0.329346  \n",
       "Ceftamin                    6.268188                0.469821  \n",
       "Infubinol                   6.567243                0.492236  \n",
       "Ketapril                    8.279709                0.603860  \n",
       "Naftisol                    8.134708                0.596466  \n",
       "Placebo                     7.821003                0.581331  \n",
       "Propriva                    6.622085                0.544332  \n",
       "Ramicane                    4.846308                0.320955  \n",
       "Stelasyn                    7.710419                0.573111  \n",
       "Zoniferol                   6.966589                0.516398  "
      ]
     },
     "execution_count": 64,
     "metadata": {},
     "output_type": "execute_result"
    }
   ],
   "source": [
    "# Generate a summary statistics table of mean, median, variance, standard deviation, and SEM of the tumor volume for each regimen\n",
    "\n",
    "# Use groupby and summary statistical methods to calculate the following properties of each drug regimen: \n",
    "# mean, median, variance, standard deviation, and SEM of the tumor volume. \n",
    "# Assemble the resulting series into a single summary DataFrame.\n",
    "Capomulin_t = combined_mouse_df_clean[(combined_mouse_df_clean[\"Drug Regimen\"] == \"Capomulin\")]\n",
    "Ceftamin_t = combined_mouse_df_clean[(combined_mouse_df_clean[\"Drug Regimen\"] == \"Ceftamin\")]\n",
    "Infubinol_t = combined_mouse_df_clean[(combined_mouse_df_clean[\"Drug Regimen\"] == \"Infubinol\")]\n",
    "Ketapril_t = combined_mouse_df_clean[(combined_mouse_df_clean[\"Drug Regimen\"] == \"Ketapril\")]\n",
    "Naftisol_t = combined_mouse_df_clean[(combined_mouse_df_clean[\"Drug Regimen\"] == \"Naftisol\")]\n",
    "Placebo_t = combined_mouse_df_clean[(combined_mouse_df_clean[\"Drug Regimen\"] == \"Placebo\")]\n",
    "Propriva_t = combined_mouse_df_clean[(combined_mouse_df_clean[\"Drug Regimen\"] == \"Propriva\")]\n",
    "Ramicane_t = combined_mouse_df_clean[(combined_mouse_df_clean[\"Drug Regimen\"] == \"Ramicane\")]\n",
    "Stelasyn_t = combined_mouse_df_clean[(combined_mouse_df_clean[\"Drug Regimen\"] == \"Stelasyn\")]\n",
    "Zoniferol_t = combined_mouse_df_clean[(combined_mouse_df_clean[\"Drug Regimen\"] == \"Zoniferol\")]\n",
    "\n",
    "\n",
    "Capomulin_tm = Capomulin_t.groupby(\"Drug Regimen\")[\"Tumor Volume (mm3)\"].mean()\n",
    "Capomulin_tme = Capomulin_t.groupby(\"Drug Regimen\")[\"Tumor Volume (mm3)\"].median()\n",
    "Capomulin_tv = Capomulin_t.groupby(\"Drug Regimen\")[\"Tumor Volume (mm3)\"].var()\n",
    "Capomulin_ts = Capomulin_t.groupby(\"Drug Regimen\")[\"Tumor Volume (mm3)\"].std()\n",
    "Capomulin_tse = Capomulin_t.groupby(\"Drug Regimen\")[\"Tumor Volume (mm3)\"].sem()\n",
    "\n",
    "capomulin_df = pd.DataFrame({\n",
    "    \"Mean Tumor Volume\": Capomulin_tm,\n",
    "    \"Median Tumor Volume\": Capomulin_tme,\n",
    "    \"Tumor Volume Variance\": Capomulin_tv,\n",
    "    \"Tumor Volume Std. Dev.\": Capomulin_ts,\n",
    "    \"Tumor Volume Std. Err.\":Capomulin_tse\n",
    "    })\n",
    "capomulin_df\n",
    "\n",
    "Ceftamin_tm = Ceftamin_t.groupby(\"Drug Regimen\")[\"Tumor Volume (mm3)\"].mean()\n",
    "Ceftamin_tme = Ceftamin_t.groupby(\"Drug Regimen\")[\"Tumor Volume (mm3)\"].median()\n",
    "Ceftamin_tv = Ceftamin_t.groupby(\"Drug Regimen\")[\"Tumor Volume (mm3)\"].var()\n",
    "Ceftamin_ts = Ceftamin_t.groupby(\"Drug Regimen\")[\"Tumor Volume (mm3)\"].std()\n",
    "Ceftamin_tse = Ceftamin_t.groupby(\"Drug Regimen\")[\"Tumor Volume (mm3)\"].sem()\n",
    "\n",
    "Ceftamin_df = pd.DataFrame({\n",
    "    \"Mean Tumor Volume\": Ceftamin_tm,\n",
    "    \"Median Tumor Volume\": Ceftamin_tme,\n",
    "    \"Tumor Volume Variance\": Ceftamin_tv,\n",
    "    \"Tumor Volume Std. Dev.\": Ceftamin_ts,\n",
    "    \"Tumor Volume Std. Err.\":Ceftamin_tse\n",
    "    })\n",
    "Ceftamin_df\n",
    "\n",
    "Infubinol_tm = Infubinol_t.groupby(\"Drug Regimen\")[\"Tumor Volume (mm3)\"].mean()\n",
    "Infubinol_tme = Infubinol_t.groupby(\"Drug Regimen\")[\"Tumor Volume (mm3)\"].median()\n",
    "Infubinol_tv = Infubinol_t.groupby(\"Drug Regimen\")[\"Tumor Volume (mm3)\"].var()\n",
    "Infubinol_ts = Infubinol_t.groupby(\"Drug Regimen\")[\"Tumor Volume (mm3)\"].std()\n",
    "Infubinol_tse = Infubinol_t.groupby(\"Drug Regimen\")[\"Tumor Volume (mm3)\"].sem()\n",
    "\n",
    "Infubinol_df = pd.DataFrame({\n",
    "    \"Mean Tumor Volume\": Infubinol_tm,\n",
    "    \"Median Tumor Volume\": Infubinol_tme,\n",
    "    \"Tumor Volume Variance\": Infubinol_tv,\n",
    "    \"Tumor Volume Std. Dev.\": Infubinol_ts,\n",
    "    \"Tumor Volume Std. Err.\":Infubinol_tse\n",
    "    })\n",
    "Infubinol_df\n",
    "\n",
    "Ketapril_tm = Ketapril_t.groupby(\"Drug Regimen\")[\"Tumor Volume (mm3)\"].mean()\n",
    "Ketapril_tme = Ketapril_t.groupby(\"Drug Regimen\")[\"Tumor Volume (mm3)\"].median()\n",
    "Ketapril_tv = Ketapril_t.groupby(\"Drug Regimen\")[\"Tumor Volume (mm3)\"].var()\n",
    "Ketapril_ts = Ketapril_t.groupby(\"Drug Regimen\")[\"Tumor Volume (mm3)\"].std()\n",
    "Ketapril_tse = Ketapril_t.groupby(\"Drug Regimen\")[\"Tumor Volume (mm3)\"].sem()\n",
    "\n",
    "Ketapril_df = pd.DataFrame({\n",
    "    \"Mean Tumor Volume\": Ketapril_tm,\n",
    "    \"Median Tumor Volume\": Ketapril_tme,\n",
    "    \"Tumor Volume Variance\": Ketapril_tv,\n",
    "    \"Tumor Volume Std. Dev.\": Ketapril_ts,\n",
    "    \"Tumor Volume Std. Err.\":Ketapril_tse\n",
    "    })\n",
    "Ketapril_df\n",
    "\n",
    "Naftisol_tm = Naftisol_t.groupby(\"Drug Regimen\")[\"Tumor Volume (mm3)\"].mean()\n",
    "Naftisol_tme = Naftisol_t.groupby(\"Drug Regimen\")[\"Tumor Volume (mm3)\"].median()\n",
    "Naftisol_tv = Naftisol_t.groupby(\"Drug Regimen\")[\"Tumor Volume (mm3)\"].var()\n",
    "Naftisol_ts = Naftisol_t.groupby(\"Drug Regimen\")[\"Tumor Volume (mm3)\"].std()\n",
    "Naftisol_tse = Naftisol_t.groupby(\"Drug Regimen\")[\"Tumor Volume (mm3)\"].sem()\n",
    "\n",
    "Naftisol_df = pd.DataFrame({\n",
    "    \"Mean Tumor Volume\": Naftisol_tm,\n",
    "    \"Median Tumor Volume\": Naftisol_tme,\n",
    "    \"Tumor Volume Variance\": Naftisol_tv,\n",
    "    \"Tumor Volume Std. Dev.\": Naftisol_ts,\n",
    "    \"Tumor Volume Std. Err.\": Naftisol_tse\n",
    "    })\n",
    "Naftisol_df\n",
    "\n",
    "Placebo_tm = Placebo_t.groupby(\"Drug Regimen\")[\"Tumor Volume (mm3)\"].mean()\n",
    "Placebo_tme = Placebo_t.groupby(\"Drug Regimen\")[\"Tumor Volume (mm3)\"].median()\n",
    "Placebo_tv = Placebo_t.groupby(\"Drug Regimen\")[\"Tumor Volume (mm3)\"].var()\n",
    "Placebo_ts = Placebo_t.groupby(\"Drug Regimen\")[\"Tumor Volume (mm3)\"].std()\n",
    "Placebo_tse = Placebo_t.groupby(\"Drug Regimen\")[\"Tumor Volume (mm3)\"].sem()\n",
    "\n",
    "Placebo_df = pd.DataFrame({\n",
    "    \"Mean Tumor Volume\": Placebo_tm,\n",
    "    \"Median Tumor Volume\": Placebo_tme,\n",
    "    \"Tumor Volume Variance\": Placebo_tv,\n",
    "    \"Tumor Volume Std. Dev.\": Placebo_ts,\n",
    "    \"Tumor Volume Std. Err.\": Placebo_tse\n",
    "    })\n",
    "Placebo_df\n",
    "\n",
    "Propriva_tm = Propriva_t.groupby(\"Drug Regimen\")[\"Tumor Volume (mm3)\"].mean()\n",
    "Propriva_tme = Propriva_t.groupby(\"Drug Regimen\")[\"Tumor Volume (mm3)\"].median()\n",
    "Propriva_tv = Propriva_t.groupby(\"Drug Regimen\")[\"Tumor Volume (mm3)\"].var()\n",
    "Propriva_ts = Propriva_t.groupby(\"Drug Regimen\")[\"Tumor Volume (mm3)\"].std()\n",
    "Propriva_tse = Propriva_t.groupby(\"Drug Regimen\")[\"Tumor Volume (mm3)\"].sem()\n",
    "\n",
    "Propriva_df = pd.DataFrame({\n",
    "    \"Mean Tumor Volume\": Propriva_tm,\n",
    "    \"Median Tumor Volume\": Propriva_tme,\n",
    "    \"Tumor Volume Variance\": Propriva_tv,\n",
    "    \"Tumor Volume Std. Dev.\": Propriva_ts,\n",
    "    \"Tumor Volume Std. Err.\": Propriva_tse\n",
    "    })\n",
    "Propriva_df\n",
    "\n",
    "Ramicane_tm = Ramicane_t.groupby(\"Drug Regimen\")[\"Tumor Volume (mm3)\"].mean()\n",
    "Ramicane_tme = Ramicane_t.groupby(\"Drug Regimen\")[\"Tumor Volume (mm3)\"].median()\n",
    "Ramicane_tv = Ramicane_t.groupby(\"Drug Regimen\")[\"Tumor Volume (mm3)\"].var()\n",
    "Ramicane_ts = Ramicane_t.groupby(\"Drug Regimen\")[\"Tumor Volume (mm3)\"].std()\n",
    "Ramicane_tse = Ramicane_t.groupby(\"Drug Regimen\")[\"Tumor Volume (mm3)\"].sem()\n",
    "\n",
    "Ramicane_df = pd.DataFrame({\n",
    "    \"Mean Tumor Volume\": Ramicane_tm,\n",
    "    \"Median Tumor Volume\": Ramicane_tme,\n",
    "    \"Tumor Volume Variance\": Ramicane_tv,\n",
    "    \"Tumor Volume Std. Dev.\": Ramicane_ts,\n",
    "    \"Tumor Volume Std. Err.\": Ramicane_tse\n",
    "    })\n",
    "Ramicane_df\n",
    "\n",
    "Stelasyn_tm = Stelasyn_t.groupby(\"Drug Regimen\")[\"Tumor Volume (mm3)\"].mean()\n",
    "Stelasyn_tme = Stelasyn_t.groupby(\"Drug Regimen\")[\"Tumor Volume (mm3)\"].median()\n",
    "Stelasyn_tv = Stelasyn_t.groupby(\"Drug Regimen\")[\"Tumor Volume (mm3)\"].var()\n",
    "Stelasyn_ts = Stelasyn_t.groupby(\"Drug Regimen\")[\"Tumor Volume (mm3)\"].std()\n",
    "Stelasyn_tse = Stelasyn_t.groupby(\"Drug Regimen\")[\"Tumor Volume (mm3)\"].sem()\n",
    "\n",
    "Stelasyn_df = pd.DataFrame({\n",
    "    \"Mean Tumor Volume\": Stelasyn_tm,\n",
    "    \"Median Tumor Volume\": Stelasyn_tme,\n",
    "    \"Tumor Volume Variance\": Stelasyn_tv,\n",
    "    \"Tumor Volume Std. Dev.\": Stelasyn_ts,\n",
    "    \"Tumor Volume Std. Err.\": Stelasyn_tse\n",
    "    })\n",
    "Stelasyn_df\n",
    "\n",
    "Zoniferol_tm = Zoniferol_t.groupby(\"Drug Regimen\")[\"Tumor Volume (mm3)\"].mean()\n",
    "Zoniferol_tme = Zoniferol_t.groupby(\"Drug Regimen\")[\"Tumor Volume (mm3)\"].median()\n",
    "Zoniferol_tv = Zoniferol_t.groupby(\"Drug Regimen\")[\"Tumor Volume (mm3)\"].var()\n",
    "Zoniferol_ts = Zoniferol_t.groupby(\"Drug Regimen\")[\"Tumor Volume (mm3)\"].std()\n",
    "Zoniferol_tse = Zoniferol_t.groupby(\"Drug Regimen\")[\"Tumor Volume (mm3)\"].sem()\n",
    "\n",
    "Zoniferol_df = pd.DataFrame({\n",
    "    \"Mean Tumor Volume\": Zoniferol_tm,\n",
    "    \"Median Tumor Volume\": Zoniferol_tme,\n",
    "    \"Tumor Volume Variance\": Zoniferol_tv,\n",
    "    \"Tumor Volume Std. Dev.\": Zoniferol_ts,\n",
    "    \"Tumor Volume Std. Err.\": Zoniferol_tse\n",
    "    })\n",
    "Zoniferol_df\n",
    "\n",
    "Summary_df = pd.concat([capomulin_df, Ceftamin_df,Infubinol_df,Ketapril_df,\n",
    "                                Naftisol_df,Placebo_df,Propriva_df,Ramicane_df,\n",
    "                                Stelasyn_df,Zoniferol_df\n",
    "                              ])\n",
    "Summary_df"
   ]
  },
  {
   "cell_type": "code",
   "execution_count": 65,
   "metadata": {},
   "outputs": [],
   "source": [
    "# A more advanced method to generate a summary statistics table of mean, median, variance, standard deviation,\n",
    "# and SEM of the tumor volume for each regimen (only one method is required in the solution)\n",
    "\n",
    "# Using the aggregation method, produce the same summary statistics in a single line\n"
   ]
  },
  {
   "cell_type": "markdown",
   "metadata": {},
   "source": [
    "## Bar and Pie Charts"
   ]
  },
  {
   "cell_type": "code",
   "execution_count": 66,
   "metadata": {},
   "outputs": [],
   "source": [
    "# Generate a bar plot showing the total number of rows (Mouse ID/Timepoints) for each drug regimen using Pandas.\n",
    "# Get total number of each regimen\n",
    "regimen_data = combined_mouse_df_clean[\"Drug Regimen\"].value_counts()"
   ]
  },
  {
   "cell_type": "code",
   "execution_count": 67,
   "metadata": {},
   "outputs": [
    {
     "data": {
      "image/png": "[encoded data removed]",
      "text/plain": [
       "<Figure size 800x600 with 1 Axes>"
      ]
     },
     "metadata": {},
     "output_type": "display_data"
    }
   ],
   "source": [
    "# Configure plot, figsize, title, and axis labels\n",
    "figure1 = regimen_data.plot(kind=\"bar\", facecolor=\"blue\", figsize=(8,6),\n",
    "                                \n",
    "                                xlabel=\"Drug Regimen\",\n",
    "                                ylabel=\"# of Observed Mouse Timepoints\")\n",
    "\n",
    "# Configure x-tick rotation\n",
    "xticklabels = regimen_data.index\n",
    "figure1.set_xticklabels(xticklabels, rotation=90, rotation_mode=\"anchor\", ha=\"right\", wrap=True)\n",
    "\n",
    "# Show plot\n",
    "plt.show()"
   ]
  },
  {
   "cell_type": "code",
   "execution_count": 69,
   "metadata": {},
   "outputs": [],
   "source": [
    "# Generate a bar plot showing the total number of rows (Mouse ID/Timepoints) for each drug regimen using pyplot.\n",
    "# Get total number of each regimen\n",
    "regimen_data = combined_mouse_df_clean[\"Drug Regimen\"].value_counts()"
   ]
  },
  {
   "cell_type": "code",
   "execution_count": 76,
   "metadata": {},
   "outputs": [
    {
     "data": {
      "image/png": "[encoded data removed]",
      "text/plain": [
       "<Figure size 640x480 with 1 Axes>"
      ]
     },
     "metadata": {},
     "output_type": "display_data"
    }
   ],
   "source": [
    "# ploting the bar chart using pyplot\n",
    "plt.bar(regimen_data.index, regimen_data.values, color=\"blue\",)\n",
    "plt.xlabel('Drug Regimen',)\n",
    "plt.ylabel(\"# of Observed Mouse Timepoints\")\n",
    "\n",
    "plt.xticks(rotation = 90)\n",
    "#show the plot\n",
    "plt.show()"
   ]
  },
  {
   "cell_type": "code",
   "execution_count": 78,
   "metadata": {},
   "outputs": [],
   "source": [
    "# Generate a pie plot showing the distribution of female versus male mice using Pandas\n",
    "# Get total number of each regimen\n",
    "sex_data = combined_mouse_df_clean[\"Sex\"].value_counts()"
   ]
  },
  {
   "cell_type": "code",
   "execution_count": 82,
   "metadata": {},
   "outputs": [
    {
     "data": {
      "image/png": "[encoded data removed]",
      "text/plain": [
       "<Figure size 640x480 with 1 Axes>"
      ]
     },
     "metadata": {},
     "output_type": "display_data"
    }
   ],
   "source": [
    "#ploting the pie chart using pandas\n",
    "sex_data.plot(kind = 'pie', autopct=\"%1.1f%%\", colors = [\"blue\", \"orange\"], title= \"sex\")\n",
    "plt.show()"
   ]
  },
  {
   "cell_type": "code",
   "execution_count": 89,
   "metadata": {},
   "outputs": [
    {
     "data": {
      "text/plain": [
       "Sex\n",
       "Male      958\n",
       "Female    922\n",
       "Name: count, dtype: int64"
      ]
     },
     "execution_count": 89,
     "metadata": {},
     "output_type": "execute_result"
    }
   ],
   "source": [
    "# Generate a pie plot showing the distribution of female versus male mice using pyplot\n",
    "sex_data = combined_mouse_df_clean[\"Sex\"].value_counts()\n",
    "sex_data"
   ]
  },
  {
   "cell_type": "code",
   "execution_count": 87,
   "metadata": {},
   "outputs": [
    {
     "data": {
      "image/png": "[encoded data removed]",
      "text/plain": [
       "<Figure size 640x480 with 1 Axes>"
      ]
     },
     "metadata": {},
     "output_type": "display_data"
    }
   ],
   "source": [
    "plt.pie(sex_data, labels= sex_data.index, autopct=\"%1.1f%%\", colors=[\"blue\", \"orange\"],  )\n",
    "plt.title(\"Sex\")\n",
    "\n",
    "plt.show()"
   ]
  },
  {
   "cell_type": "markdown",
   "metadata": {},
   "source": [
    "## Quartiles, Outliers and Boxplots"
   ]
  },
  {
   "cell_type": "code",
   "execution_count": null,
   "metadata": {},
   "outputs": [],
   "source": [
    "# Calculate the final tumor volume of each mouse across four of the treatment regimens:  \n",
    "# Capomulin, Ramicane, Infubinol, and Ceftamin\n",
    "\n",
    "# Start by getting the last (greatest) timepoint for each mouse\n",
    "\n",
    "\n",
    "# Merge this group df with the original DataFrame to get the tumor volume at the last timepoint\n"
   ]
  },
  {
   "cell_type": "code",
   "execution_count": null,
   "metadata": {},
   "outputs": [],
   "source": [
    "# Put treatments into a list for for loop (and later for plot labels)\n",
    "\n",
    "\n",
    "# Create empty list to fill with tumor vol data (for plotting)\n",
    "\n",
    "\n",
    "# Calculate the IQR and quantitatively determine if there are any potential outliers. \n",
    "\n",
    "    \n",
    "    # Locate the rows which contain mice on each drug and get the tumor volumes\n",
    "\n",
    "    \n",
    "    # add subset \n",
    "\n",
    "    \n",
    "    # Determine outliers using upper and lower bounds\n"
   ]
  },
  {
   "cell_type": "code",
   "execution_count": null,
   "metadata": {},
   "outputs": [],
   "source": [
    "# Generate a box plot that shows the distrubution of the tumor volume for each treatment group.\n"
   ]
  },
  {
   "cell_type": "markdown",
   "metadata": {},
   "source": [
    "## Line and Scatter Plots"
   ]
  },
  {
   "cell_type": "code",
   "execution_count": 88,
   "metadata": {},
   "outputs": [
    {
     "data": {
      "text/plain": [
       "<Axes: xlabel='Timepoint'>"
      ]
     },
     "execution_count": 88,
     "metadata": {},
     "output_type": "execute_result"
    },
    {
     "data": {
      "image/png": "[encoded data removed]",
      "text/plain": [
       "<Figure size 640x480 with 1 Axes>"
      ]
     },
     "metadata": {},
     "output_type": "display_data"
    }
   ],
   "source": [
    "# Generate a line plot of tumor volume vs. time point for a single mouse treated with Capomulin\n",
    "combined_mouse_df_clean.plot(x = \"Timepoint\", y = \"Tumor Volume (mm3)\", kind = \"line\")"
   ]
  },
  {
   "cell_type": "code",
   "execution_count": null,
   "metadata": {},
   "outputs": [],
   "source": [
    "# Generate a scatter plot of mouse weight vs. the average observed tumor volume for the entire Capomulin regimen\n"
   ]
  },
  {
   "cell_type": "markdown",
   "metadata": {},
   "source": [
    "## Correlation and Regression"
   ]
  },
  {
   "cell_type": "code",
   "execution_count": null,
   "metadata": {},
   "outputs": [],
   "source": [
    "# Calculate the correlation coefficient and a linear regression model \n",
    "# for mouse weight and average observed tumor volume for the entire Capomulin regimen\n"
   ]
  },
  {
   "cell_type": "code",
   "execution_count": null,
   "metadata": {},
   "outputs": [],
   "source": []
  }
 ],
 "metadata": {
  "anaconda-cloud": {},
  "kernelspec": {
   "display_name": "PythonData",
   "language": "python",
   "name": "python3"
  },
  "language_info": {
   "codemirror_mode": {
    "name": "ipython",
    "version": 3
   },
   "file_extension": ".py",
   "mimetype": "text/x-python",
   "name": "python",
   "nbconvert_exporter": "python",
   "pygments_lexer": "ipython3",
   "version": "3.11.7"
  }
 },
 "nbformat": 4,
 "nbformat_minor": 4
}
